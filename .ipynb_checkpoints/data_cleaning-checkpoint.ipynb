{
 "cells": [
  {
   "cell_type": "code",
   "execution_count": 1,
   "id": "84389f31",
   "metadata": {},
   "outputs": [],
   "source": [
    "import re\n",
    "import pandas as pd\n",
    "import numpy as np\n",
    "\n",
    "import warnings\n",
    "warnings.simplefilter(\"ignore\")"
   ]
  },
  {
   "cell_type": "code",
   "execution_count": 2,
   "id": "00162763",
   "metadata": {},
   "outputs": [
    {
     "data": {
      "text/html": [
       "<div>\n",
       "<style scoped>\n",
       "    .dataframe tbody tr th:only-of-type {\n",
       "        vertical-align: middle;\n",
       "    }\n",
       "\n",
       "    .dataframe tbody tr th {\n",
       "        vertical-align: top;\n",
       "    }\n",
       "\n",
       "    .dataframe thead th {\n",
       "        text-align: right;\n",
       "    }\n",
       "</style>\n",
       "<table border=\"1\" class=\"dataframe\">\n",
       "  <thead>\n",
       "    <tr style=\"text-align: right;\">\n",
       "      <th></th>\n",
       "      <th>0</th>\n",
       "    </tr>\n",
       "  </thead>\n",
       "  <tbody>\n",
       "    <tr>\n",
       "      <th>0</th>\n",
       "      <td>3 PM  Mon 24th-Mar-2014___0.384 kwh</td>\n",
       "    </tr>\n",
       "    <tr>\n",
       "      <th>1</th>\n",
       "      <td>5AM  15-Aug-2014___1.201  kwh</td>\n",
       "    </tr>\n",
       "    <tr>\n",
       "      <th>2</th>\n",
       "      <td>__8PM Thu 20-Mar-2014____1.523 kwh</td>\n",
       "    </tr>\n",
       "    <tr>\n",
       "      <th>3</th>\n",
       "      <td>6PM  23rd-Apr-2014___0.424  kwh</td>\n",
       "    </tr>\n",
       "    <tr>\n",
       "      <th>4</th>\n",
       "      <td>_1AM  Friday 19th-Dec-2014___0.209  kwh</td>\n",
       "    </tr>\n",
       "  </tbody>\n",
       "</table>\n",
       "</div>"
      ],
      "text/plain": [
       "                                           0\n",
       "0      3 PM  Mon 24th-Mar-2014___0.384 kwh  \n",
       "1             5AM  15-Aug-2014___1.201  kwh \n",
       "2       __8PM Thu 20-Mar-2014____1.523 kwh  \n",
       "3            6PM  23rd-Apr-2014___0.424  kwh\n",
       "4  _1AM  Friday 19th-Dec-2014___0.209  kwh  "
      ]
     },
     "execution_count": 2,
     "metadata": {},
     "output_type": "execute_result"
    }
   ],
   "source": [
    "df = pd.read_excel('data_cleaning.xlsx', 'Usage', header=None)\n",
    "\n",
    "df.head()"
   ]
  },
  {
   "cell_type": "code",
   "execution_count": 3,
   "id": "78927ef3",
   "metadata": {},
   "outputs": [
    {
     "name": "stdout",
     "output_type": "stream",
     "text": [
      "<class 'pandas.core.frame.DataFrame'>\n",
      "RangeIndex: 8760 entries, 0 to 8759\n",
      "Data columns (total 1 columns):\n",
      " #   Column  Non-Null Count  Dtype \n",
      "---  ------  --------------  ----- \n",
      " 0   0       8760 non-null   object\n",
      "dtypes: object(1)\n",
      "memory usage: 68.6+ KB\n"
     ]
    }
   ],
   "source": [
    "df.info()"
   ]
  },
  {
   "cell_type": "code",
   "execution_count": 4,
   "id": "b290811e",
   "metadata": {},
   "outputs": [
    {
     "data": {
      "text/plain": [
       "6"
      ]
     },
     "execution_count": 4,
     "metadata": {},
     "output_type": "execute_result"
    }
   ],
   "source": [
    "df.duplicated().sum()"
   ]
  },
  {
   "cell_type": "code",
   "execution_count": 5,
   "id": "fb19cc8c",
   "metadata": {},
   "outputs": [
    {
     "data": {
      "text/plain": [
       "0"
      ]
     },
     "execution_count": 5,
     "metadata": {},
     "output_type": "execute_result"
    }
   ],
   "source": [
    "df.drop_duplicates(inplace=True)\n",
    "\n",
    "df.isnull().sum().sum()"
   ]
  },
  {
   "cell_type": "code",
   "execution_count": 6,
   "id": "b4bbf3f4",
   "metadata": {},
   "outputs": [
    {
     "data": {
      "text/html": [
       "<div>\n",
       "<style scoped>\n",
       "    .dataframe tbody tr th:only-of-type {\n",
       "        vertical-align: middle;\n",
       "    }\n",
       "\n",
       "    .dataframe tbody tr th {\n",
       "        vertical-align: top;\n",
       "    }\n",
       "\n",
       "    .dataframe thead th {\n",
       "        text-align: right;\n",
       "    }\n",
       "</style>\n",
       "<table border=\"1\" class=\"dataframe\">\n",
       "  <thead>\n",
       "    <tr style=\"text-align: right;\">\n",
       "      <th></th>\n",
       "      <th>col</th>\n",
       "    </tr>\n",
       "  </thead>\n",
       "  <tbody>\n",
       "    <tr>\n",
       "      <th>0</th>\n",
       "      <td>3 PM  Mon 24th-Mar-2014___0.384 kwh</td>\n",
       "    </tr>\n",
       "    <tr>\n",
       "      <th>1</th>\n",
       "      <td>5AM  15-Aug-2014___1.201  kwh</td>\n",
       "    </tr>\n",
       "    <tr>\n",
       "      <th>2</th>\n",
       "      <td>__8PM Thu 20-Mar-2014____1.523 kwh</td>\n",
       "    </tr>\n",
       "    <tr>\n",
       "      <th>3</th>\n",
       "      <td>6PM  23rd-Apr-2014___0.424  kwh</td>\n",
       "    </tr>\n",
       "    <tr>\n",
       "      <th>4</th>\n",
       "      <td>_1AM  Friday 19th-Dec-2014___0.209  kwh</td>\n",
       "    </tr>\n",
       "  </tbody>\n",
       "</table>\n",
       "</div>"
      ],
      "text/plain": [
       "                                         col\n",
       "0      3 PM  Mon 24th-Mar-2014___0.384 kwh  \n",
       "1             5AM  15-Aug-2014___1.201  kwh \n",
       "2       __8PM Thu 20-Mar-2014____1.523 kwh  \n",
       "3            6PM  23rd-Apr-2014___0.424  kwh\n",
       "4  _1AM  Friday 19th-Dec-2014___0.209  kwh  "
      ]
     },
     "execution_count": 6,
     "metadata": {},
     "output_type": "execute_result"
    }
   ],
   "source": [
    "df = df.rename(columns={0: 'col'})\n",
    "\n",
    "df.head()"
   ]
  },
  {
   "cell_type": "code",
   "execution_count": 7,
   "id": "21e9a138",
   "metadata": {},
   "outputs": [
    {
     "data": {
      "text/html": [
       "<div>\n",
       "<style scoped>\n",
       "    .dataframe tbody tr th:only-of-type {\n",
       "        vertical-align: middle;\n",
       "    }\n",
       "\n",
       "    .dataframe tbody tr th {\n",
       "        vertical-align: top;\n",
       "    }\n",
       "\n",
       "    .dataframe thead th {\n",
       "        text-align: right;\n",
       "    }\n",
       "</style>\n",
       "<table border=\"1\" class=\"dataframe\">\n",
       "  <thead>\n",
       "    <tr style=\"text-align: right;\">\n",
       "      <th></th>\n",
       "      <th>col</th>\n",
       "    </tr>\n",
       "  </thead>\n",
       "  <tbody>\n",
       "    <tr>\n",
       "      <th>0</th>\n",
       "      <td>3 PM  Mon 24th-Mar-2014   0.384 kwh</td>\n",
       "    </tr>\n",
       "    <tr>\n",
       "      <th>1</th>\n",
       "      <td>5AM  15-Aug-2014   1.201  kwh</td>\n",
       "    </tr>\n",
       "    <tr>\n",
       "      <th>2</th>\n",
       "      <td>8PM Thu 20-Mar-2014    1.523 kwh</td>\n",
       "    </tr>\n",
       "    <tr>\n",
       "      <th>3</th>\n",
       "      <td>6PM  23rd-Apr-2014   0.424  kwh</td>\n",
       "    </tr>\n",
       "    <tr>\n",
       "      <th>4</th>\n",
       "      <td>1AM  Friday 19th-Dec-2014   0.209  kwh</td>\n",
       "    </tr>\n",
       "  </tbody>\n",
       "</table>\n",
       "</div>"
      ],
      "text/plain": [
       "                                         col\n",
       "0      3 PM  Mon 24th-Mar-2014   0.384 kwh  \n",
       "1             5AM  15-Aug-2014   1.201  kwh \n",
       "2         8PM Thu 20-Mar-2014    1.523 kwh  \n",
       "3            6PM  23rd-Apr-2014   0.424  kwh\n",
       "4   1AM  Friday 19th-Dec-2014   0.209  kwh  "
      ]
     },
     "execution_count": 7,
     "metadata": {},
     "output_type": "execute_result"
    }
   ],
   "source": [
    "df['col'] = df['col'].replace(\"_\", \" \", regex=True)\n",
    "\n",
    "df.head()"
   ]
  },
  {
   "cell_type": "code",
   "execution_count": 8,
   "id": "c4715d25",
   "metadata": {},
   "outputs": [
    {
     "data": {
      "text/html": [
       "<div>\n",
       "<style scoped>\n",
       "    .dataframe tbody tr th:only-of-type {\n",
       "        vertical-align: middle;\n",
       "    }\n",
       "\n",
       "    .dataframe tbody tr th {\n",
       "        vertical-align: top;\n",
       "    }\n",
       "\n",
       "    .dataframe thead th {\n",
       "        text-align: right;\n",
       "    }\n",
       "</style>\n",
       "<table border=\"1\" class=\"dataframe\">\n",
       "  <thead>\n",
       "    <tr style=\"text-align: right;\">\n",
       "      <th></th>\n",
       "      <th>col</th>\n",
       "      <th>meridiem</th>\n",
       "      <th>unit</th>\n",
       "    </tr>\n",
       "  </thead>\n",
       "  <tbody>\n",
       "    <tr>\n",
       "      <th>0</th>\n",
       "      <td>3   Mon 24th-Mar-2014   0.384</td>\n",
       "      <td>PM</td>\n",
       "      <td>kwh</td>\n",
       "    </tr>\n",
       "    <tr>\n",
       "      <th>1</th>\n",
       "      <td>5  15-Aug-2014   1.201</td>\n",
       "      <td>AM</td>\n",
       "      <td>kwh</td>\n",
       "    </tr>\n",
       "    <tr>\n",
       "      <th>2</th>\n",
       "      <td>8 Thu 20-Mar-2014    1.523</td>\n",
       "      <td>PM</td>\n",
       "      <td>kwh</td>\n",
       "    </tr>\n",
       "    <tr>\n",
       "      <th>3</th>\n",
       "      <td>6  23rd-Apr-2014   0.424</td>\n",
       "      <td>PM</td>\n",
       "      <td>kwh</td>\n",
       "    </tr>\n",
       "    <tr>\n",
       "      <th>4</th>\n",
       "      <td>1  Friday 19th-Dec-2014   0.209</td>\n",
       "      <td>AM</td>\n",
       "      <td>kwh</td>\n",
       "    </tr>\n",
       "  </tbody>\n",
       "</table>\n",
       "</div>"
      ],
      "text/plain": [
       "                               col meridiem unit\n",
       "0    3   Mon 24th-Mar-2014   0.384       PM  kwh\n",
       "1           5  15-Aug-2014   1.201       AM  kwh\n",
       "2       8 Thu 20-Mar-2014    1.523       PM  kwh\n",
       "3         6  23rd-Apr-2014   0.424       PM  kwh\n",
       "4  1  Friday 19th-Dec-2014   0.209       AM  kwh"
      ]
     },
     "execution_count": 8,
     "metadata": {},
     "output_type": "execute_result"
    }
   ],
   "source": [
    "df['meridiem'] = df['col'].map(lambda x: 'AM' if re.search('AM', x) else ('PM' if re.search('PM', x) else None))\n",
    "\n",
    "df['unit'] = df['col'].map(lambda x: 'kwh' if re.search('kwh', x) else None)\n",
    "\n",
    "df['col'] = df['col'].replace((\"AM\", 'PM', 'kwh'), \"\", regex=True)\n",
    "\n",
    "df['col'] = df['col'].map(lambda x: x.strip())\n",
    "\n",
    "df.head()"
   ]
  },
  {
   "cell_type": "code",
   "execution_count": 9,
   "id": "c2d341fa",
   "metadata": {},
   "outputs": [
    {
     "data": {
      "text/html": [
       "<div>\n",
       "<style scoped>\n",
       "    .dataframe tbody tr th:only-of-type {\n",
       "        vertical-align: middle;\n",
       "    }\n",
       "\n",
       "    .dataframe tbody tr th {\n",
       "        vertical-align: top;\n",
       "    }\n",
       "\n",
       "    .dataframe thead th {\n",
       "        text-align: right;\n",
       "    }\n",
       "</style>\n",
       "<table border=\"1\" class=\"dataframe\">\n",
       "  <thead>\n",
       "    <tr style=\"text-align: right;\">\n",
       "      <th></th>\n",
       "      <th>col</th>\n",
       "      <th>meridiem</th>\n",
       "      <th>unit</th>\n",
       "      <th>consumption</th>\n",
       "    </tr>\n",
       "  </thead>\n",
       "  <tbody>\n",
       "    <tr>\n",
       "      <th>0</th>\n",
       "      <td>3   Mon 24th-Mar-2014</td>\n",
       "      <td>PM</td>\n",
       "      <td>kwh</td>\n",
       "      <td>0.384</td>\n",
       "    </tr>\n",
       "    <tr>\n",
       "      <th>1</th>\n",
       "      <td>5  15-Aug-2014</td>\n",
       "      <td>AM</td>\n",
       "      <td>kwh</td>\n",
       "      <td>1.201</td>\n",
       "    </tr>\n",
       "    <tr>\n",
       "      <th>2</th>\n",
       "      <td>8 Thu 20-Mar-2014</td>\n",
       "      <td>PM</td>\n",
       "      <td>kwh</td>\n",
       "      <td>1.523</td>\n",
       "    </tr>\n",
       "    <tr>\n",
       "      <th>3</th>\n",
       "      <td>6  23rd-Apr-2014</td>\n",
       "      <td>PM</td>\n",
       "      <td>kwh</td>\n",
       "      <td>0.424</td>\n",
       "    </tr>\n",
       "    <tr>\n",
       "      <th>4</th>\n",
       "      <td>1  Friday 19th-Dec-2014</td>\n",
       "      <td>AM</td>\n",
       "      <td>kwh</td>\n",
       "      <td>0.209</td>\n",
       "    </tr>\n",
       "  </tbody>\n",
       "</table>\n",
       "</div>"
      ],
      "text/plain": [
       "                       col meridiem unit consumption\n",
       "0    3   Mon 24th-Mar-2014       PM  kwh       0.384\n",
       "1           5  15-Aug-2014       AM  kwh       1.201\n",
       "2        8 Thu 20-Mar-2014       PM  kwh       1.523\n",
       "3         6  23rd-Apr-2014       PM  kwh       0.424\n",
       "4  1  Friday 19th-Dec-2014       AM  kwh       0.209"
      ]
     },
     "execution_count": 9,
     "metadata": {},
     "output_type": "execute_result"
    }
   ],
   "source": [
    "df['consumption'] = df['col'].map(lambda x: x.split(' ')[-1])\n",
    "\n",
    "df['col'] = df['col'].str.rsplit(' ').str[:-1].apply(' '.join)\n",
    "\n",
    "df['col'] = df['col'].map(lambda x: x.strip())\n",
    "\n",
    "df.head()"
   ]
  },
  {
   "cell_type": "code",
   "execution_count": 10,
   "id": "6bf77c6b",
   "metadata": {},
   "outputs": [
    {
     "data": {
      "text/html": [
       "<div>\n",
       "<style scoped>\n",
       "    .dataframe tbody tr th:only-of-type {\n",
       "        vertical-align: middle;\n",
       "    }\n",
       "\n",
       "    .dataframe tbody tr th {\n",
       "        vertical-align: top;\n",
       "    }\n",
       "\n",
       "    .dataframe thead th {\n",
       "        text-align: right;\n",
       "    }\n",
       "</style>\n",
       "<table border=\"1\" class=\"dataframe\">\n",
       "  <thead>\n",
       "    <tr style=\"text-align: right;\">\n",
       "      <th></th>\n",
       "      <th>col</th>\n",
       "      <th>meridiem</th>\n",
       "      <th>unit</th>\n",
       "      <th>consumption</th>\n",
       "      <th>hour</th>\n",
       "    </tr>\n",
       "  </thead>\n",
       "  <tbody>\n",
       "    <tr>\n",
       "      <th>0</th>\n",
       "      <td>Mon 24th-Mar-2014</td>\n",
       "      <td>PM</td>\n",
       "      <td>kwh</td>\n",
       "      <td>0.384</td>\n",
       "      <td>3</td>\n",
       "    </tr>\n",
       "    <tr>\n",
       "      <th>1</th>\n",
       "      <td>15-Aug-2014</td>\n",
       "      <td>AM</td>\n",
       "      <td>kwh</td>\n",
       "      <td>1.201</td>\n",
       "      <td>5</td>\n",
       "    </tr>\n",
       "    <tr>\n",
       "      <th>2</th>\n",
       "      <td>Thu 20-Mar-2014</td>\n",
       "      <td>PM</td>\n",
       "      <td>kwh</td>\n",
       "      <td>1.523</td>\n",
       "      <td>8</td>\n",
       "    </tr>\n",
       "    <tr>\n",
       "      <th>3</th>\n",
       "      <td>23rd-Apr-2014</td>\n",
       "      <td>PM</td>\n",
       "      <td>kwh</td>\n",
       "      <td>0.424</td>\n",
       "      <td>6</td>\n",
       "    </tr>\n",
       "    <tr>\n",
       "      <th>4</th>\n",
       "      <td>Friday 19th-Dec-2014</td>\n",
       "      <td>AM</td>\n",
       "      <td>kwh</td>\n",
       "      <td>0.209</td>\n",
       "      <td>1</td>\n",
       "    </tr>\n",
       "  </tbody>\n",
       "</table>\n",
       "</div>"
      ],
      "text/plain": [
       "                    col meridiem unit consumption hour\n",
       "0     Mon 24th-Mar-2014       PM  kwh       0.384    3\n",
       "1           15-Aug-2014       AM  kwh       1.201    5\n",
       "2       Thu 20-Mar-2014       PM  kwh       1.523    8\n",
       "3         23rd-Apr-2014       PM  kwh       0.424    6\n",
       "4  Friday 19th-Dec-2014       AM  kwh       0.209    1"
      ]
     },
     "execution_count": 10,
     "metadata": {},
     "output_type": "execute_result"
    }
   ],
   "source": [
    "df['hour'] = df['col'].map(lambda x: x.split(' ')[0])\n",
    "\n",
    "df['col'] = df['col'].str.split(' ').str[1:].apply(' '.join)\n",
    "\n",
    "df['col'] = df['col'].map(lambda x: x.strip())\n",
    "\n",
    "df.head()"
   ]
  },
  {
   "cell_type": "code",
   "execution_count": 11,
   "id": "7dda4dbd",
   "metadata": {},
   "outputs": [],
   "source": [
    "df['weekday'] = df['col'].map(lambda x: 'Mon' if re.search('Mon ', x) or re.search('Monday', x) \n",
    "                                      else ('Tue' if re.search('Tue ', x) or re.search('Tuesday', x) \n",
    "                                      else ('Wed' if re.search('Wed ', x) or re.search('Wednesday', x) \n",
    "                                      else ('Thu' if re.search('Thu ', x) or re.search('Thursday', x) \n",
    "                                      else ('Fri' if re.search('Fri ', x) or re.search('Friday', x) \n",
    "                                      else ('Sat' if re.search('Sat ', x) or re.search('Saturday', x) \n",
    "                                      else ('Sun' if re.search('Sun ', x) or re.search('Sunday', x) else None)))))))"
   ]
  },
  {
   "cell_type": "code",
   "execution_count": 12,
   "id": "2deefddb",
   "metadata": {},
   "outputs": [
    {
     "data": {
      "text/html": [
       "<div>\n",
       "<style scoped>\n",
       "    .dataframe tbody tr th:only-of-type {\n",
       "        vertical-align: middle;\n",
       "    }\n",
       "\n",
       "    .dataframe tbody tr th {\n",
       "        vertical-align: top;\n",
       "    }\n",
       "\n",
       "    .dataframe thead th {\n",
       "        text-align: right;\n",
       "    }\n",
       "</style>\n",
       "<table border=\"1\" class=\"dataframe\">\n",
       "  <thead>\n",
       "    <tr style=\"text-align: right;\">\n",
       "      <th></th>\n",
       "      <th>col</th>\n",
       "      <th>meridiem</th>\n",
       "      <th>unit</th>\n",
       "      <th>consumption</th>\n",
       "      <th>hour</th>\n",
       "      <th>weekday</th>\n",
       "    </tr>\n",
       "  </thead>\n",
       "  <tbody>\n",
       "    <tr>\n",
       "      <th>0</th>\n",
       "      <td>Mon 24th-Mar-2014</td>\n",
       "      <td>PM</td>\n",
       "      <td>kwh</td>\n",
       "      <td>0.384</td>\n",
       "      <td>3</td>\n",
       "      <td>Mon</td>\n",
       "    </tr>\n",
       "    <tr>\n",
       "      <th>1</th>\n",
       "      <td>15-Aug-2014</td>\n",
       "      <td>AM</td>\n",
       "      <td>kwh</td>\n",
       "      <td>1.201</td>\n",
       "      <td>5</td>\n",
       "      <td>None</td>\n",
       "    </tr>\n",
       "    <tr>\n",
       "      <th>2</th>\n",
       "      <td>Thu 20-Mar-2014</td>\n",
       "      <td>PM</td>\n",
       "      <td>kwh</td>\n",
       "      <td>1.523</td>\n",
       "      <td>8</td>\n",
       "      <td>Thu</td>\n",
       "    </tr>\n",
       "    <tr>\n",
       "      <th>3</th>\n",
       "      <td>23rd-Apr-2014</td>\n",
       "      <td>PM</td>\n",
       "      <td>kwh</td>\n",
       "      <td>0.424</td>\n",
       "      <td>6</td>\n",
       "      <td>None</td>\n",
       "    </tr>\n",
       "    <tr>\n",
       "      <th>4</th>\n",
       "      <td>Friday 19th-Dec-2014</td>\n",
       "      <td>AM</td>\n",
       "      <td>kwh</td>\n",
       "      <td>0.209</td>\n",
       "      <td>1</td>\n",
       "      <td>Fri</td>\n",
       "    </tr>\n",
       "  </tbody>\n",
       "</table>\n",
       "</div>"
      ],
      "text/plain": [
       "                    col meridiem unit consumption hour weekday\n",
       "0     Mon 24th-Mar-2014       PM  kwh       0.384    3     Mon\n",
       "1           15-Aug-2014       AM  kwh       1.201    5    None\n",
       "2       Thu 20-Mar-2014       PM  kwh       1.523    8     Thu\n",
       "3         23rd-Apr-2014       PM  kwh       0.424    6    None\n",
       "4  Friday 19th-Dec-2014       AM  kwh       0.209    1     Fri"
      ]
     },
     "execution_count": 12,
     "metadata": {},
     "output_type": "execute_result"
    }
   ],
   "source": [
    "df.head()"
   ]
  },
  {
   "cell_type": "code",
   "execution_count": 13,
   "id": "b793ddd1",
   "metadata": {},
   "outputs": [],
   "source": [
    "df['col'] = df['col'].replace(('Mon ', 'Monday', \n",
    "                               'Tue ', 'Tuesday', \n",
    "                               'Wed ', 'Wednesday', \n",
    "                               'Thu ', 'Thursday', \n",
    "                               'Fri ', 'Friday', \n",
    "                               'Sat ', 'Saturday', \n",
    "                               'Sun ', 'Sunday'), \"\", regex=True)"
   ]
  },
  {
   "cell_type": "code",
   "execution_count": 14,
   "id": "e12da287",
   "metadata": {},
   "outputs": [
    {
     "data": {
      "text/html": [
       "<div>\n",
       "<style scoped>\n",
       "    .dataframe tbody tr th:only-of-type {\n",
       "        vertical-align: middle;\n",
       "    }\n",
       "\n",
       "    .dataframe tbody tr th {\n",
       "        vertical-align: top;\n",
       "    }\n",
       "\n",
       "    .dataframe thead th {\n",
       "        text-align: right;\n",
       "    }\n",
       "</style>\n",
       "<table border=\"1\" class=\"dataframe\">\n",
       "  <thead>\n",
       "    <tr style=\"text-align: right;\">\n",
       "      <th></th>\n",
       "      <th>col</th>\n",
       "      <th>meridiem</th>\n",
       "      <th>unit</th>\n",
       "      <th>consumption</th>\n",
       "      <th>hour</th>\n",
       "      <th>weekday</th>\n",
       "    </tr>\n",
       "  </thead>\n",
       "  <tbody>\n",
       "    <tr>\n",
       "      <th>0</th>\n",
       "      <td>24th-Mar-2014</td>\n",
       "      <td>PM</td>\n",
       "      <td>kwh</td>\n",
       "      <td>0.384</td>\n",
       "      <td>3</td>\n",
       "      <td>Mon</td>\n",
       "    </tr>\n",
       "    <tr>\n",
       "      <th>1</th>\n",
       "      <td>15-Aug-2014</td>\n",
       "      <td>AM</td>\n",
       "      <td>kwh</td>\n",
       "      <td>1.201</td>\n",
       "      <td>5</td>\n",
       "      <td>None</td>\n",
       "    </tr>\n",
       "    <tr>\n",
       "      <th>2</th>\n",
       "      <td>20-Mar-2014</td>\n",
       "      <td>PM</td>\n",
       "      <td>kwh</td>\n",
       "      <td>1.523</td>\n",
       "      <td>8</td>\n",
       "      <td>Thu</td>\n",
       "    </tr>\n",
       "    <tr>\n",
       "      <th>3</th>\n",
       "      <td>23rd-Apr-2014</td>\n",
       "      <td>PM</td>\n",
       "      <td>kwh</td>\n",
       "      <td>0.424</td>\n",
       "      <td>6</td>\n",
       "      <td>None</td>\n",
       "    </tr>\n",
       "    <tr>\n",
       "      <th>4</th>\n",
       "      <td>19th-Dec-2014</td>\n",
       "      <td>AM</td>\n",
       "      <td>kwh</td>\n",
       "      <td>0.209</td>\n",
       "      <td>1</td>\n",
       "      <td>Fri</td>\n",
       "    </tr>\n",
       "  </tbody>\n",
       "</table>\n",
       "</div>"
      ],
      "text/plain": [
       "              col meridiem unit consumption hour weekday\n",
       "0   24th-Mar-2014       PM  kwh       0.384    3     Mon\n",
       "1     15-Aug-2014       AM  kwh       1.201    5    None\n",
       "2     20-Mar-2014       PM  kwh       1.523    8     Thu\n",
       "3   23rd-Apr-2014       PM  kwh       0.424    6    None\n",
       "4   19th-Dec-2014       AM  kwh       0.209    1     Fri"
      ]
     },
     "execution_count": 14,
     "metadata": {},
     "output_type": "execute_result"
    }
   ],
   "source": [
    "df.head()"
   ]
  },
  {
   "cell_type": "code",
   "execution_count": 15,
   "id": "1e6453b3",
   "metadata": {},
   "outputs": [
    {
     "data": {
      "text/html": [
       "<div>\n",
       "<style scoped>\n",
       "    .dataframe tbody tr th:only-of-type {\n",
       "        vertical-align: middle;\n",
       "    }\n",
       "\n",
       "    .dataframe tbody tr th {\n",
       "        vertical-align: top;\n",
       "    }\n",
       "\n",
       "    .dataframe thead th {\n",
       "        text-align: right;\n",
       "    }\n",
       "</style>\n",
       "<table border=\"1\" class=\"dataframe\">\n",
       "  <thead>\n",
       "    <tr style=\"text-align: right;\">\n",
       "      <th></th>\n",
       "      <th>col</th>\n",
       "      <th>meridiem</th>\n",
       "      <th>unit</th>\n",
       "      <th>consumption</th>\n",
       "      <th>hour</th>\n",
       "      <th>weekday</th>\n",
       "    </tr>\n",
       "  </thead>\n",
       "  <tbody>\n",
       "    <tr>\n",
       "      <th>0</th>\n",
       "      <td>24-Mar-2014</td>\n",
       "      <td>PM</td>\n",
       "      <td>kwh</td>\n",
       "      <td>0.384</td>\n",
       "      <td>3</td>\n",
       "      <td>Mon</td>\n",
       "    </tr>\n",
       "    <tr>\n",
       "      <th>1</th>\n",
       "      <td>15-Aug-2014</td>\n",
       "      <td>AM</td>\n",
       "      <td>kwh</td>\n",
       "      <td>1.201</td>\n",
       "      <td>5</td>\n",
       "      <td>None</td>\n",
       "    </tr>\n",
       "    <tr>\n",
       "      <th>2</th>\n",
       "      <td>20-Mar-2014</td>\n",
       "      <td>PM</td>\n",
       "      <td>kwh</td>\n",
       "      <td>1.523</td>\n",
       "      <td>8</td>\n",
       "      <td>Thu</td>\n",
       "    </tr>\n",
       "    <tr>\n",
       "      <th>3</th>\n",
       "      <td>23-Apr-2014</td>\n",
       "      <td>PM</td>\n",
       "      <td>kwh</td>\n",
       "      <td>0.424</td>\n",
       "      <td>6</td>\n",
       "      <td>None</td>\n",
       "    </tr>\n",
       "    <tr>\n",
       "      <th>4</th>\n",
       "      <td>19-Dec-2014</td>\n",
       "      <td>AM</td>\n",
       "      <td>kwh</td>\n",
       "      <td>0.209</td>\n",
       "      <td>1</td>\n",
       "      <td>Fri</td>\n",
       "    </tr>\n",
       "  </tbody>\n",
       "</table>\n",
       "</div>"
      ],
      "text/plain": [
       "           col meridiem unit consumption hour weekday\n",
       "0  24-Mar-2014       PM  kwh       0.384    3     Mon\n",
       "1  15-Aug-2014       AM  kwh       1.201    5    None\n",
       "2  20-Mar-2014       PM  kwh       1.523    8     Thu\n",
       "3  23-Apr-2014       PM  kwh       0.424    6    None\n",
       "4  19-Dec-2014       AM  kwh       0.209    1     Fri"
      ]
     },
     "execution_count": 15,
     "metadata": {},
     "output_type": "execute_result"
    }
   ],
   "source": [
    "df['col'] = df['col'].replace((\"st\", 'nd', 'rd', 'th'), \"\", regex=True)\n",
    "\n",
    "df['col'] = df['col'].map(lambda x: x.strip())\n",
    "\n",
    "df.head()"
   ]
  },
  {
   "cell_type": "code",
   "execution_count": 16,
   "id": "3cceb6bc",
   "metadata": {},
   "outputs": [
    {
     "data": {
      "text/html": [
       "<div>\n",
       "<style scoped>\n",
       "    .dataframe tbody tr th:only-of-type {\n",
       "        vertical-align: middle;\n",
       "    }\n",
       "\n",
       "    .dataframe tbody tr th {\n",
       "        vertical-align: top;\n",
       "    }\n",
       "\n",
       "    .dataframe thead th {\n",
       "        text-align: right;\n",
       "    }\n",
       "</style>\n",
       "<table border=\"1\" class=\"dataframe\">\n",
       "  <thead>\n",
       "    <tr style=\"text-align: right;\">\n",
       "      <th></th>\n",
       "      <th>date</th>\n",
       "      <th>meridiem</th>\n",
       "      <th>unit</th>\n",
       "      <th>consumption</th>\n",
       "      <th>hour</th>\n",
       "      <th>weekday</th>\n",
       "    </tr>\n",
       "  </thead>\n",
       "  <tbody>\n",
       "    <tr>\n",
       "      <th>0</th>\n",
       "      <td>24-Mar-2014</td>\n",
       "      <td>PM</td>\n",
       "      <td>kwh</td>\n",
       "      <td>0.384</td>\n",
       "      <td>3</td>\n",
       "      <td>Mon</td>\n",
       "    </tr>\n",
       "    <tr>\n",
       "      <th>1</th>\n",
       "      <td>15-Aug-2014</td>\n",
       "      <td>AM</td>\n",
       "      <td>kwh</td>\n",
       "      <td>1.201</td>\n",
       "      <td>5</td>\n",
       "      <td>None</td>\n",
       "    </tr>\n",
       "    <tr>\n",
       "      <th>2</th>\n",
       "      <td>20-Mar-2014</td>\n",
       "      <td>PM</td>\n",
       "      <td>kwh</td>\n",
       "      <td>1.523</td>\n",
       "      <td>8</td>\n",
       "      <td>Thu</td>\n",
       "    </tr>\n",
       "    <tr>\n",
       "      <th>3</th>\n",
       "      <td>23-Apr-2014</td>\n",
       "      <td>PM</td>\n",
       "      <td>kwh</td>\n",
       "      <td>0.424</td>\n",
       "      <td>6</td>\n",
       "      <td>None</td>\n",
       "    </tr>\n",
       "    <tr>\n",
       "      <th>4</th>\n",
       "      <td>19-Dec-2014</td>\n",
       "      <td>AM</td>\n",
       "      <td>kwh</td>\n",
       "      <td>0.209</td>\n",
       "      <td>1</td>\n",
       "      <td>Fri</td>\n",
       "    </tr>\n",
       "  </tbody>\n",
       "</table>\n",
       "</div>"
      ],
      "text/plain": [
       "          date meridiem unit consumption hour weekday\n",
       "0  24-Mar-2014       PM  kwh       0.384    3     Mon\n",
       "1  15-Aug-2014       AM  kwh       1.201    5    None\n",
       "2  20-Mar-2014       PM  kwh       1.523    8     Thu\n",
       "3  23-Apr-2014       PM  kwh       0.424    6    None\n",
       "4  19-Dec-2014       AM  kwh       0.209    1     Fri"
      ]
     },
     "execution_count": 16,
     "metadata": {},
     "output_type": "execute_result"
    }
   ],
   "source": [
    "df = df.rename(columns={'col': 'date'})\n",
    "\n",
    "df.head()"
   ]
  },
  {
   "cell_type": "code",
   "execution_count": 17,
   "id": "5733f345",
   "metadata": {},
   "outputs": [
    {
     "data": {
      "text/plain": [
       "date              0\n",
       "meridiem          0\n",
       "unit              0\n",
       "consumption       0\n",
       "hour              0\n",
       "weekday        4297\n",
       "dtype: int64"
      ]
     },
     "execution_count": 17,
     "metadata": {},
     "output_type": "execute_result"
    }
   ],
   "source": [
    "df.isnull().sum()"
   ]
  },
  {
   "cell_type": "code",
   "execution_count": 18,
   "id": "3db7c7f2",
   "metadata": {},
   "outputs": [
    {
     "name": "stdout",
     "output_type": "stream",
     "text": [
      "<class 'pandas.core.frame.DataFrame'>\n",
      "Int64Index: 8754 entries, 0 to 8759\n",
      "Data columns (total 6 columns):\n",
      " #   Column       Non-Null Count  Dtype \n",
      "---  ------       --------------  ----- \n",
      " 0   date         8754 non-null   object\n",
      " 1   meridiem     8754 non-null   object\n",
      " 2   unit         8754 non-null   object\n",
      " 3   consumption  8754 non-null   object\n",
      " 4   hour         8754 non-null   object\n",
      " 5   weekday      4457 non-null   object\n",
      "dtypes: object(6)\n",
      "memory usage: 478.7+ KB\n"
     ]
    }
   ],
   "source": [
    "df.info()"
   ]
  },
  {
   "cell_type": "code",
   "execution_count": 19,
   "id": "3d397c49",
   "metadata": {},
   "outputs": [],
   "source": [
    "df['datetime_24H'] = df['date'] +\" \"+ df['hour'] + \" \" + df['meridiem']\n",
    "\n",
    "df['datetime_24H'] = pd.to_datetime(df['datetime_24H'], format='%d-%b-%Y %I %p')\n",
    "\n",
    "df['date'] = pd.to_datetime(df['date'])"
   ]
  },
  {
   "cell_type": "code",
   "execution_count": 20,
   "id": "61ff82b1",
   "metadata": {},
   "outputs": [
    {
     "name": "stdout",
     "output_type": "stream",
     "text": [
      "<class 'pandas.core.frame.DataFrame'>\n",
      "Int64Index: 8754 entries, 0 to 8759\n",
      "Data columns (total 7 columns):\n",
      " #   Column        Non-Null Count  Dtype         \n",
      "---  ------        --------------  -----         \n",
      " 0   date          8754 non-null   datetime64[ns]\n",
      " 1   meridiem      8754 non-null   object        \n",
      " 2   unit          8754 non-null   object        \n",
      " 3   consumption   8754 non-null   object        \n",
      " 4   hour          8754 non-null   object        \n",
      " 5   weekday       4457 non-null   object        \n",
      " 6   datetime_24H  8754 non-null   datetime64[ns]\n",
      "dtypes: datetime64[ns](2), object(5)\n",
      "memory usage: 547.1+ KB\n"
     ]
    }
   ],
   "source": [
    "df.info()"
   ]
  },
  {
   "cell_type": "code",
   "execution_count": 21,
   "id": "08303cc1",
   "metadata": {},
   "outputs": [
    {
     "data": {
      "text/html": [
       "<div>\n",
       "<style scoped>\n",
       "    .dataframe tbody tr th:only-of-type {\n",
       "        vertical-align: middle;\n",
       "    }\n",
       "\n",
       "    .dataframe tbody tr th {\n",
       "        vertical-align: top;\n",
       "    }\n",
       "\n",
       "    .dataframe thead th {\n",
       "        text-align: right;\n",
       "    }\n",
       "</style>\n",
       "<table border=\"1\" class=\"dataframe\">\n",
       "  <thead>\n",
       "    <tr style=\"text-align: right;\">\n",
       "      <th></th>\n",
       "      <th>date</th>\n",
       "      <th>meridiem</th>\n",
       "      <th>unit</th>\n",
       "      <th>consumption</th>\n",
       "      <th>hour</th>\n",
       "      <th>weekday</th>\n",
       "      <th>datetime_24H</th>\n",
       "      <th>day_name</th>\n",
       "      <th>month</th>\n",
       "      <th>year</th>\n",
       "    </tr>\n",
       "  </thead>\n",
       "  <tbody>\n",
       "    <tr>\n",
       "      <th>0</th>\n",
       "      <td>2014-03-24</td>\n",
       "      <td>PM</td>\n",
       "      <td>kwh</td>\n",
       "      <td>0.384</td>\n",
       "      <td>3</td>\n",
       "      <td>Mon</td>\n",
       "      <td>2014-03-24 15:00:00</td>\n",
       "      <td>Monday</td>\n",
       "      <td>March</td>\n",
       "      <td>2014</td>\n",
       "    </tr>\n",
       "    <tr>\n",
       "      <th>1</th>\n",
       "      <td>2014-08-15</td>\n",
       "      <td>AM</td>\n",
       "      <td>kwh</td>\n",
       "      <td>1.201</td>\n",
       "      <td>5</td>\n",
       "      <td>None</td>\n",
       "      <td>2014-08-15 05:00:00</td>\n",
       "      <td>Friday</td>\n",
       "      <td>August</td>\n",
       "      <td>2014</td>\n",
       "    </tr>\n",
       "    <tr>\n",
       "      <th>2</th>\n",
       "      <td>2014-03-20</td>\n",
       "      <td>PM</td>\n",
       "      <td>kwh</td>\n",
       "      <td>1.523</td>\n",
       "      <td>8</td>\n",
       "      <td>Thu</td>\n",
       "      <td>2014-03-20 20:00:00</td>\n",
       "      <td>Thursday</td>\n",
       "      <td>March</td>\n",
       "      <td>2014</td>\n",
       "    </tr>\n",
       "    <tr>\n",
       "      <th>3</th>\n",
       "      <td>2014-04-23</td>\n",
       "      <td>PM</td>\n",
       "      <td>kwh</td>\n",
       "      <td>0.424</td>\n",
       "      <td>6</td>\n",
       "      <td>None</td>\n",
       "      <td>2014-04-23 18:00:00</td>\n",
       "      <td>Wednesday</td>\n",
       "      <td>April</td>\n",
       "      <td>2014</td>\n",
       "    </tr>\n",
       "    <tr>\n",
       "      <th>4</th>\n",
       "      <td>2014-12-19</td>\n",
       "      <td>AM</td>\n",
       "      <td>kwh</td>\n",
       "      <td>0.209</td>\n",
       "      <td>1</td>\n",
       "      <td>Fri</td>\n",
       "      <td>2014-12-19 01:00:00</td>\n",
       "      <td>Friday</td>\n",
       "      <td>December</td>\n",
       "      <td>2014</td>\n",
       "    </tr>\n",
       "  </tbody>\n",
       "</table>\n",
       "</div>"
      ],
      "text/plain": [
       "        date meridiem unit consumption hour weekday        datetime_24H  \\\n",
       "0 2014-03-24       PM  kwh       0.384    3     Mon 2014-03-24 15:00:00   \n",
       "1 2014-08-15       AM  kwh       1.201    5    None 2014-08-15 05:00:00   \n",
       "2 2014-03-20       PM  kwh       1.523    8     Thu 2014-03-20 20:00:00   \n",
       "3 2014-04-23       PM  kwh       0.424    6    None 2014-04-23 18:00:00   \n",
       "4 2014-12-19       AM  kwh       0.209    1     Fri 2014-12-19 01:00:00   \n",
       "\n",
       "    day_name     month  year  \n",
       "0     Monday     March  2014  \n",
       "1     Friday    August  2014  \n",
       "2   Thursday     March  2014  \n",
       "3  Wednesday     April  2014  \n",
       "4     Friday  December  2014  "
      ]
     },
     "execution_count": 21,
     "metadata": {},
     "output_type": "execute_result"
    }
   ],
   "source": [
    "df['day_name'] = df['date'].dt.day_name() # or dt.dayofweek\n",
    "df['month'] = df['date'].dt.month_name()\n",
    "df['year'] = pd.DatetimeIndex(df['date']).year\n",
    "\n",
    "df.head()"
   ]
  },
  {
   "cell_type": "code",
   "execution_count": 22,
   "id": "87b0e357",
   "metadata": {},
   "outputs": [
    {
     "data": {
      "text/plain": [
       "date               0\n",
       "meridiem           0\n",
       "unit               0\n",
       "consumption        0\n",
       "hour               0\n",
       "weekday         4297\n",
       "datetime_24H       0\n",
       "day_name           0\n",
       "month              0\n",
       "year               0\n",
       "dtype: int64"
      ]
     },
     "execution_count": 22,
     "metadata": {},
     "output_type": "execute_result"
    }
   ],
   "source": [
    "df.isnull().sum()"
   ]
  },
  {
   "cell_type": "code",
   "execution_count": 23,
   "id": "4def14ec",
   "metadata": {},
   "outputs": [],
   "source": [
    "df = df[['hour', 'meridiem', 'weekday', 'date', 'consumption', 'unit', 'datetime_24H', 'year', 'month',  'day_name']]"
   ]
  },
  {
   "cell_type": "code",
   "execution_count": 24,
   "id": "5bad4d4c",
   "metadata": {},
   "outputs": [
    {
     "data": {
      "text/html": [
       "<div>\n",
       "<style scoped>\n",
       "    .dataframe tbody tr th:only-of-type {\n",
       "        vertical-align: middle;\n",
       "    }\n",
       "\n",
       "    .dataframe tbody tr th {\n",
       "        vertical-align: top;\n",
       "    }\n",
       "\n",
       "    .dataframe thead th {\n",
       "        text-align: right;\n",
       "    }\n",
       "</style>\n",
       "<table border=\"1\" class=\"dataframe\">\n",
       "  <thead>\n",
       "    <tr style=\"text-align: right;\">\n",
       "      <th></th>\n",
       "      <th>hour</th>\n",
       "      <th>meridiem</th>\n",
       "      <th>weekday</th>\n",
       "      <th>date</th>\n",
       "      <th>consumption</th>\n",
       "      <th>unit</th>\n",
       "      <th>datetime_24H</th>\n",
       "      <th>year</th>\n",
       "      <th>month</th>\n",
       "      <th>day_name</th>\n",
       "    </tr>\n",
       "  </thead>\n",
       "  <tbody>\n",
       "    <tr>\n",
       "      <th>0</th>\n",
       "      <td>3</td>\n",
       "      <td>PM</td>\n",
       "      <td>Mon</td>\n",
       "      <td>2014-03-24</td>\n",
       "      <td>0.384</td>\n",
       "      <td>kwh</td>\n",
       "      <td>2014-03-24 15:00:00</td>\n",
       "      <td>2014</td>\n",
       "      <td>March</td>\n",
       "      <td>Monday</td>\n",
       "    </tr>\n",
       "    <tr>\n",
       "      <th>1</th>\n",
       "      <td>5</td>\n",
       "      <td>AM</td>\n",
       "      <td>None</td>\n",
       "      <td>2014-08-15</td>\n",
       "      <td>1.201</td>\n",
       "      <td>kwh</td>\n",
       "      <td>2014-08-15 05:00:00</td>\n",
       "      <td>2014</td>\n",
       "      <td>August</td>\n",
       "      <td>Friday</td>\n",
       "    </tr>\n",
       "    <tr>\n",
       "      <th>2</th>\n",
       "      <td>8</td>\n",
       "      <td>PM</td>\n",
       "      <td>Thu</td>\n",
       "      <td>2014-03-20</td>\n",
       "      <td>1.523</td>\n",
       "      <td>kwh</td>\n",
       "      <td>2014-03-20 20:00:00</td>\n",
       "      <td>2014</td>\n",
       "      <td>March</td>\n",
       "      <td>Thursday</td>\n",
       "    </tr>\n",
       "    <tr>\n",
       "      <th>3</th>\n",
       "      <td>6</td>\n",
       "      <td>PM</td>\n",
       "      <td>None</td>\n",
       "      <td>2014-04-23</td>\n",
       "      <td>0.424</td>\n",
       "      <td>kwh</td>\n",
       "      <td>2014-04-23 18:00:00</td>\n",
       "      <td>2014</td>\n",
       "      <td>April</td>\n",
       "      <td>Wednesday</td>\n",
       "    </tr>\n",
       "    <tr>\n",
       "      <th>4</th>\n",
       "      <td>1</td>\n",
       "      <td>AM</td>\n",
       "      <td>Fri</td>\n",
       "      <td>2014-12-19</td>\n",
       "      <td>0.209</td>\n",
       "      <td>kwh</td>\n",
       "      <td>2014-12-19 01:00:00</td>\n",
       "      <td>2014</td>\n",
       "      <td>December</td>\n",
       "      <td>Friday</td>\n",
       "    </tr>\n",
       "  </tbody>\n",
       "</table>\n",
       "</div>"
      ],
      "text/plain": [
       "  hour meridiem weekday       date consumption unit        datetime_24H  year  \\\n",
       "0    3       PM     Mon 2014-03-24       0.384  kwh 2014-03-24 15:00:00  2014   \n",
       "1    5       AM    None 2014-08-15       1.201  kwh 2014-08-15 05:00:00  2014   \n",
       "2    8       PM     Thu 2014-03-20       1.523  kwh 2014-03-20 20:00:00  2014   \n",
       "3    6       PM    None 2014-04-23       0.424  kwh 2014-04-23 18:00:00  2014   \n",
       "4    1       AM     Fri 2014-12-19       0.209  kwh 2014-12-19 01:00:00  2014   \n",
       "\n",
       "      month   day_name  \n",
       "0     March     Monday  \n",
       "1    August     Friday  \n",
       "2     March   Thursday  \n",
       "3     April  Wednesday  \n",
       "4  December     Friday  "
      ]
     },
     "execution_count": 24,
     "metadata": {},
     "output_type": "execute_result"
    }
   ],
   "source": [
    "df.head()"
   ]
  },
  {
   "cell_type": "code",
   "execution_count": 25,
   "id": "f94f2fc8",
   "metadata": {},
   "outputs": [],
   "source": [
    "df.consumption = df.consumption.astype(float)"
   ]
  },
  {
   "cell_type": "code",
   "execution_count": 26,
   "id": "67258c17",
   "metadata": {},
   "outputs": [],
   "source": [
    "df.hour = df.hour.astype(int)"
   ]
  },
  {
   "cell_type": "markdown",
   "id": "ec3339be",
   "metadata": {},
   "source": [
    "# Question 1\n",
    "What is your average hourly electricity usage? "
   ]
  },
  {
   "cell_type": "code",
   "execution_count": 27,
   "id": "be5a2221",
   "metadata": {},
   "outputs": [
    {
     "data": {
      "text/plain": [
       "0.782"
      ]
     },
     "execution_count": 27,
     "metadata": {},
     "output_type": "execute_result"
    }
   ],
   "source": [
    "round(df.consumption.mean(), 3)"
   ]
  },
  {
   "cell_type": "markdown",
   "id": "115952f1",
   "metadata": {},
   "source": [
    "# Question 2\n",
    "What is your average electricity usage\n",
    "perhour in February?"
   ]
  },
  {
   "cell_type": "code",
   "execution_count": 28,
   "id": "59bbe7dc",
   "metadata": {},
   "outputs": [
    {
     "data": {
      "text/plain": [
       "0.834"
      ]
     },
     "execution_count": 28,
     "metadata": {},
     "output_type": "execute_result"
    }
   ],
   "source": [
    "round(df[df['date'].dt.month == 2].consumption.mean(), 3)"
   ]
  },
  {
   "cell_type": "markdown",
   "id": "a154a9bf",
   "metadata": {},
   "source": [
    "# Question 3\n",
    "Which day of the week has the\n",
    "highest average usage?"
   ]
  },
  {
   "cell_type": "code",
   "execution_count": 29,
   "id": "9188a9fa",
   "metadata": {},
   "outputs": [
    {
     "data": {
      "text/plain": [
       "'Sunday'"
      ]
     },
     "execution_count": 29,
     "metadata": {},
     "output_type": "execute_result"
    }
   ],
   "source": [
    "df.groupby(['day_name']).agg({'consumption' : 'mean'}).sort_values('consumption', ascending=False).head(1).index.values.item()"
   ]
  },
  {
   "cell_type": "markdown",
   "id": "431d7c4d",
   "metadata": {},
   "source": [
    "# Question 4\n",
    "What is the highest amount of\n",
    "electricity used in a continuous 4 hour\n",
    "period?"
   ]
  },
  {
   "cell_type": "code",
   "execution_count": 30,
   "id": "6a1b1d9c",
   "metadata": {},
   "outputs": [
    {
     "data": {
      "text/plain": [
       "17.237"
      ]
     },
     "execution_count": 30,
     "metadata": {},
     "output_type": "execute_result"
    }
   ],
   "source": [
    "new_df = df[['datetime_24H', 'consumption']].sort_values(['datetime_24H'])\n",
    "\n",
    "new_df.reset_index(drop=True, inplace=True)\n",
    "\n",
    "round(new_df['consumption'].rolling(4).sum().max(), 3)"
   ]
  },
  {
   "cell_type": "code",
   "execution_count": 31,
   "id": "4a29e386",
   "metadata": {},
   "outputs": [],
   "source": [
    "# max_usage = 0\n",
    "\n",
    "# for i in range(len(new_df) - 3):\n",
    "#     sum_usage = new_df.iloc[i]['consumption'] + new_df.iloc[i+1]['consumption'] + new_df.iloc[i+2]['consumption'] + new_df.iloc[i+3]['consumption']\n",
    "#     if sum_usage > max_usage:\n",
    "#         max_usage = sum_usage\n",
    "        \n",
    "# round(max_usage, 3)"
   ]
  },
  {
   "cell_type": "markdown",
   "id": "4cbb4df1",
   "metadata": {},
   "source": [
    "# Question 5\n",
    "Based on your historic electricity usage,\n",
    "what would your annual cost of\n",
    "electricitybe under the \"Monthly Flex\"\n",
    "contract?"
   ]
  },
  {
   "cell_type": "code",
   "execution_count": 32,
   "id": "cdb38db0",
   "metadata": {},
   "outputs": [],
   "source": [
    "year_df = df[['month', 'consumption']]\n",
    "\n",
    "year_gr = year_df.groupby(['month']).agg({'month' : 'first', 'consumption' : 'sum'})"
   ]
  },
  {
   "cell_type": "code",
   "execution_count": 33,
   "id": "d34009ce",
   "metadata": {},
   "outputs": [],
   "source": [
    "year_gr['monthly_cost'] = np.where(year_gr['month']== 'January', year_gr['consumption']*0.20, \n",
    "                            (np.where(year_gr['month']== 'February', year_gr['consumption']*0.19,\n",
    "                            (np.where(year_gr['month']== 'March', year_gr['consumption']*0.17,\n",
    "                            (np.where(year_gr['month']== 'April', year_gr['consumption']*0.18,\n",
    "                            (np.where(year_gr['month']== 'May', year_gr['consumption']*0.22,\n",
    "                            (np.where(year_gr['month']== 'June', year_gr['consumption']*0.27,\n",
    "                            (np.where(year_gr['month']== 'July', year_gr['consumption']*0.24,\n",
    "                            (np.where(year_gr['month']== 'August', year_gr['consumption']*0.19,\n",
    "                            (np.where(year_gr['month']== 'September', year_gr['consumption']*0.18,\n",
    "                            (np.where(year_gr['month']== 'October', year_gr['consumption']*0.15,\n",
    "                            (np.where(year_gr['month']== 'November', year_gr['consumption']*0.14,\n",
    "                            (np.where(year_gr['month']== 'December', year_gr['consumption']*0.19, \n",
    "                                      False)))))))))))))))))))))))"
   ]
  },
  {
   "cell_type": "code",
   "execution_count": 34,
   "id": "b1f1a963",
   "metadata": {},
   "outputs": [
    {
     "data": {
      "text/plain": [
       "1420.06"
      ]
     },
     "execution_count": 34,
     "metadata": {},
     "output_type": "execute_result"
    }
   ],
   "source": [
    "# The Monthly Flex plan\n",
    "\n",
    "round(year_gr['monthly_cost'].sum(), 2)"
   ]
  },
  {
   "cell_type": "markdown",
   "id": "e9db3494",
   "metadata": {},
   "source": [
    "# Question 6\n",
    "Based on your historic electricity\n",
    "usage, which of the three contracts\n",
    "would produce the lowest annual\n",
    "cost?\n",
    "##### Monthly Flex / No Flex / Hourly Flex Plans"
   ]
  },
  {
   "cell_type": "code",
   "execution_count": 35,
   "id": "996b6261",
   "metadata": {},
   "outputs": [
    {
     "data": {
      "text/plain": [
       "1420.06"
      ]
     },
     "execution_count": 35,
     "metadata": {},
     "output_type": "execute_result"
    }
   ],
   "source": [
    "# The Monthly Flex plan\n",
    "\n",
    "round(year_gr['monthly_cost'].sum(), 2)"
   ]
  },
  {
   "cell_type": "code",
   "execution_count": 36,
   "id": "b5f291f0",
   "metadata": {},
   "outputs": [
    {
     "data": {
      "text/plain": [
       "1436.87"
      ]
     },
     "execution_count": 36,
     "metadata": {},
     "output_type": "execute_result"
    }
   ],
   "source": [
    "# No Flex Plan\n",
    "\n",
    "round(df['consumption'].sum()*0.21, 2)"
   ]
  },
  {
   "cell_type": "code",
   "execution_count": 37,
   "id": "8030e3f9",
   "metadata": {},
   "outputs": [
    {
     "data": {
      "text/plain": [
       "1367.85"
      ]
     },
     "execution_count": 37,
     "metadata": {},
     "output_type": "execute_result"
    }
   ],
   "source": [
    "# The Hourly Flex plan\n",
    "\n",
    "hour_group = df.groupby(['hour', 'meridiem']).agg({'hour' : 'first', 'meridiem' : 'first', 'consumption' : 'sum'})\n",
    "\n",
    "hour_group['h_m'] = hour_group['hour'].astype('string') + hour_group['meridiem']\n",
    "\n",
    "hour_group['hourly_cost'] =  np.where(hour_group['h_m']== '12AM', hour_group['consumption']*0.10, \n",
    "                            (np.where(hour_group['h_m']== '1AM',  hour_group['consumption']*0.10,\n",
    "                            (np.where(hour_group['h_m']== '2AM',  hour_group['consumption']*0.10,\n",
    "                            (np.where(hour_group['h_m']== '3AM',  hour_group['consumption']*0.10,\n",
    "                            (np.where(hour_group['h_m']== '4AM',  hour_group['consumption']*0.15,\n",
    "                            (np.where(hour_group['h_m']== '5AM',  hour_group['consumption']*0.20,\n",
    "                            (np.where(hour_group['h_m']== '6AM',  hour_group['consumption']*0.24,\n",
    "                            (np.where(hour_group['h_m']== '7AM',  hour_group['consumption']*0.24,\n",
    "                            (np.where(hour_group['h_m']== '8AM',  hour_group['consumption']*0.26,\n",
    "                            (np.where(hour_group['h_m']== '9AM',  hour_group['consumption']*0.20,\n",
    "                            (np.where(hour_group['h_m']== '10AM', hour_group['consumption']*0.20,\n",
    "                            (np.where(hour_group['h_m']== '11AM', hour_group['consumption']*0.26,\n",
    "                            (np.where(hour_group['h_m']== '12PM', hour_group['consumption']*0.26,\n",
    "                            (np.where(hour_group['h_m']== '1PM',  hour_group['consumption']*0.20,\n",
    "                            (np.where(hour_group['h_m']== '2PM',  hour_group['consumption']*0.24,\n",
    "                            (np.where(hour_group['h_m']== '3PM',  hour_group['consumption']*0.18,\n",
    "                            (np.where(hour_group['h_m']== '4PM',  hour_group['consumption']*0.15,\n",
    "                            (np.where(hour_group['h_m']== '5PM',  hour_group['consumption']*0.30,\n",
    "                            (np.where(hour_group['h_m']== '6PM',  hour_group['consumption']*0.24,\n",
    "                            (np.where(hour_group['h_m']== '7PM',  hour_group['consumption']*0.24,\n",
    "                            (np.where(hour_group['h_m']== '8PM',  hour_group['consumption']*0.12,\n",
    "                            (np.where(hour_group['h_m']== '9PM',  hour_group['consumption']*0.11,\n",
    "                            (np.where(hour_group['h_m']== '10PM', hour_group['consumption']*0.10,\n",
    "                            (np.where(hour_group['h_m']== '11PM', hour_group['consumption']*0.10, \n",
    "                                      False)))))))))))))))))))))))))))))))))))))))))))))))\n",
    "\n",
    "\n",
    "round(hour_group['hourly_cost'].sum(), 2)"
   ]
  }
 ],
 "metadata": {
  "kernelspec": {
   "display_name": "Python 3",
   "language": "python",
   "name": "python3"
  },
  "language_info": {
   "codemirror_mode": {
    "name": "ipython",
    "version": 3
   },
   "file_extension": ".py",
   "mimetype": "text/x-python",
   "name": "python",
   "nbconvert_exporter": "python",
   "pygments_lexer": "ipython3",
   "version": "3.8.8"
  }
 },
 "nbformat": 4,
 "nbformat_minor": 5
}
